{
 "cells": [
  {
   "cell_type": "code",
   "execution_count": 1,
   "id": "17c79238",
   "metadata": {},
   "outputs": [
    {
     "name": "stdout",
     "output_type": "stream",
     "text": [
      "BMI of Peter Parker is 20.82962962962963 and he (she) is healthy.\n",
      "The daily calorie consumption of Peter Parker is 1809.0 and he (she) is not undernourished.\n"
     ]
    }
   ],
   "source": [
    "def child_based_nutrition_calculator():\n",
    "    Name= \"Peter Parker\"\n",
    "    Age= 7\n",
    "    Height= 45 \n",
    "    Weight= 60 \n",
    "    \n",
    "    Milk= 300\n",
    "    Vegetables= 300\n",
    "    Meat= 200\n",
    "    Lentils= 100\n",
    "    Egg= 300\n",
    "    Rice= 300\n",
    "    \n",
    "    m=Milk\n",
    "    v=(Vegetables/100)*85\n",
    "    ml=(Meat/100)*143\n",
    "    l=(Lentils/100)*113\n",
    "    e=(Egg/100)*155\n",
    "    r=(Rice/100)*130\n",
    "    calories=m+v+ml+l+e+r\n",
    "    \n",
    "    BMI = (Weight/(Height**2)*703)\n",
    "    print(f\"BMI of {Name} is {BMI} and he (she) is healthy.\")\n",
    "    print(f\"The daily calorie consumption of {Name} is {calories} and he (she) is not undernourished.\")\n",
    "\n",
    "child_based_nutrition_calculator()"
   ]
  },
  {
   "cell_type": "code",
   "execution_count": null,
   "id": "68481b45",
   "metadata": {},
   "outputs": [],
   "source": []
  }
 ],
 "metadata": {
  "kernelspec": {
   "display_name": "Python 3 (ipykernel)",
   "language": "python",
   "name": "python3"
  },
  "language_info": {
   "codemirror_mode": {
    "name": "ipython",
    "version": 3
   },
   "file_extension": ".py",
   "mimetype": "text/x-python",
   "name": "python",
   "nbconvert_exporter": "python",
   "pygments_lexer": "ipython3",
   "version": "3.11.5"
  }
 },
 "nbformat": 4,
 "nbformat_minor": 5
}
